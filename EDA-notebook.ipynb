{
  "cells": [
    {
      "cell_type": "code",
      "execution_count": 1,
      "id": "1fa7f526",
      "metadata": {
        "id": "1fa7f526",
        "outputId": "2d56db72-886b-4ec8-aeaf-1bee1a573245",
        "colab": {
          "base_uri": "https://localhost:8080/"
        }
      },
      "outputs": [
        {
          "output_type": "stream",
          "name": "stdout",
          "text": [
            "hello\n"
          ]
        }
      ],
      "source": [
        "print('hello')\n"
      ]
    },
    {
      "cell_type": "code",
      "execution_count": 2,
      "id": "07d9cd81",
      "metadata": {
        "id": "07d9cd81"
      },
      "outputs": [],
      "source": [
        "import seaborn as sns\n",
        "import pandas as pd\n"
      ]
    },
    {
      "cell_type": "code",
      "source": [
        "data = pd.read_csv('train.csv')"
      ],
      "metadata": {
        "id": "_Sje71hIBOfE"
      },
      "id": "_Sje71hIBOfE",
      "execution_count": null,
      "outputs": []
    }
  ],
  "metadata": {
    "kernelspec": {
      "display_name": "Python (my_new_project)",
      "language": "python",
      "name": "my_new_project"
    },
    "language_info": {
      "codemirror_mode": {
        "name": "ipython",
        "version": 3
      },
      "file_extension": ".py",
      "mimetype": "text/x-python",
      "name": "python",
      "nbconvert_exporter": "python",
      "pygments_lexer": "ipython3",
      "version": "3.12.3"
    },
    "colab": {
      "provenance": []
    }
  },
  "nbformat": 4,
  "nbformat_minor": 5
}